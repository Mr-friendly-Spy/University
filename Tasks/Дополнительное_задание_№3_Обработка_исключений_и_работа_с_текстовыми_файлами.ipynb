{
  "cells": [
    {
      "cell_type": "markdown",
      "metadata": {
        "id": "view-in-github",
        "colab_type": "text"
      },
      "source": [
        "<a href=\"https://colab.research.google.com/github/Mr-friendly-Spy/University/blob/main/Tasks/%D0%94%D0%BE%D0%BF%D0%BE%D0%BB%D0%BD%D0%B8%D1%82%D0%B5%D0%BB%D1%8C%D0%BD%D0%BE%D0%B5_%D0%B7%D0%B0%D0%B4%D0%B0%D0%BD%D0%B8%D0%B5_%E2%84%963_%D0%9E%D0%B1%D1%80%D0%B0%D0%B1%D0%BE%D1%82%D0%BA%D0%B0_%D0%B8%D1%81%D0%BA%D0%BB%D1%8E%D1%87%D0%B5%D0%BD%D0%B8%D0%B9_%D0%B8_%D1%80%D0%B0%D0%B1%D0%BE%D1%82%D0%B0_%D1%81_%D1%82%D0%B5%D0%BA%D1%81%D1%82%D0%BE%D0%B2%D1%8B%D0%BC%D0%B8_%D1%84%D0%B0%D0%B9%D0%BB%D0%B0%D0%BC%D0%B8.ipynb\" target=\"_parent\"><img src=\"https://colab.research.google.com/assets/colab-badge.svg\" alt=\"Open In Colab\"/></a>"
      ]
    },
    {
      "cell_type": "markdown",
      "id": "bb332bf9",
      "metadata": {
        "id": "bb332bf9"
      },
      "source": [
        "# **Дополнительное задание №3. Обработка исключений и работа с текстовыми файлами**"
      ]
    },
    {
      "cell_type": "markdown",
      "id": "aa6808db",
      "metadata": {
        "id": "aa6808db"
      },
      "source": [
        "**БАЗА:**\n",
        "\n",
        "- **Обработка исключений** позволяет перехватывать и обрабатывать ошибки, возникающие при выполнении программы, предотвращая её аварийное завершение.\n",
        "- **Работа с файлами** - важный навык для чтения, записи и обработки текстовой информации в Python.\n",
        "\n",
        "---"
      ]
    },
    {
      "cell_type": "markdown",
      "id": "2478deca",
      "metadata": {
        "id": "2478deca"
      },
      "source": [
        "## **I. Обработка исключений**"
      ]
    },
    {
      "cell_type": "markdown",
      "id": "0ab0b851",
      "metadata": {
        "id": "0ab0b851"
      },
      "source": [
        "### **Пункт №1. Обработка некорректного индекса (IndexError)**"
      ]
    },
    {
      "cell_type": "markdown",
      "id": "46e69e1f",
      "metadata": {
        "id": "46e69e1f"
      },
      "source": [
        "Создайте список из нескольких элементов (например, [10, 20, 30]). Попросите пользователя ввести индекс элемента, который нужно вывести. Если пользователь введёт индекс, выходящий за границы списка, перехватите IndexError и сообщите об этом.\n",
        "\n",
        "**ОБЯЗАТЕЛЬНО:**\n",
        "- Создайте список из минимум 5 элементов\n",
        "- Покажите содержимое списка перед работой\n",
        "- Протестируйте минимум 4 случая (корректный индекс, отрицательный, слишком большой, нечисловое значение)"
      ]
    },
    {
      "cell_type": "code",
      "execution_count": 8,
      "id": "724c5954",
      "metadata": {
        "id": "724c5954",
        "colab": {
          "base_uri": "https://localhost:8080/"
        },
        "outputId": "70c3936a-223d-4531-fad4-130f416f686b"
      },
      "outputs": [
        {
          "output_type": "stream",
          "name": "stdout",
          "text": [
            "Индекс выходит за границы списка!\n"
          ]
        }
      ],
      "source": [
        "a = [10, 20, 30, 40, 50, 60]\n",
        "try:\n",
        "  print(a[6])\n",
        "except:\n",
        "  print('Индекс выходит за границы списка!')"
      ]
    },
    {
      "cell_type": "markdown",
      "id": "7ac84eec",
      "metadata": {
        "id": "7ac84eec"
      },
      "source": [
        "---"
      ]
    },
    {
      "cell_type": "markdown",
      "id": "f8bfb6e1",
      "metadata": {
        "id": "f8bfb6e1"
      },
      "source": [
        "### **Пункт №2. Обработка исключений в цикле**"
      ]
    },
    {
      "cell_type": "markdown",
      "id": "63c3b706",
      "metadata": {
        "id": "63c3b706"
      },
      "source": [
        "Напишите программу, которая запрашивает у пользователя числа и добавляет их в список.\n",
        "- Если пользователь вводит некорректные данные, программа должна выводить сообщение об ошибке и продолжать работу.\n",
        "- Для выхода из программы пользователь должен ввести \"стоп\".\n",
        "\n",
        "**ОБЯЗАТЕЛЬНО:**\n",
        "- Покажите процесс ввода минимум 7 значений (включая ошибочные)\n",
        "- Выведите финальный список и статистику (сколько чисел введено успешно, сколько ошибок)"
      ]
    },
    {
      "cell_type": "markdown",
      "source": [
        "\n",
        "\n",
        "```\n",
        "# Пример:\n",
        "# Введите число: 10\n",
        "# Введите число: текст (Ошибка: это не число)\n",
        "# Введите число: стоп\n",
        "# Итоговый список: [10]\n",
        "```\n",
        "\n"
      ],
      "metadata": {
        "id": "aiWaEPOuoHDS"
      },
      "id": "aiWaEPOuoHDS"
    },
    {
      "cell_type": "code",
      "execution_count": 21,
      "id": "31448e09",
      "metadata": {
        "id": "31448e09",
        "colab": {
          "base_uri": "https://localhost:8080/"
        },
        "outputId": "20d5500f-a328-4133-f23f-4156b44fb177"
      },
      "outputs": [
        {
          "output_type": "stream",
          "name": "stdout",
          "text": [
            "Введите число: 45\n",
            "Введите число: 10\n",
            "Введите число: 23\n",
            "Введите число: авы\n",
            "Ошибка: это не число\n",
            "Введите число: 45\n",
            "Введите число: куп\n",
            "Ошибка: это не число\n",
            "Введите число: 8\n",
            "Введите число: енг\n",
            "Ошибка: это не число\n",
            "Введите число: ке\n",
            "Ошибка: это не число\n",
            "Введите число: еноаиено\n",
            "Ошибка: это не число\n",
            "Введите число: олд\n",
            "Ошибка: это не число\n",
            "Введите число: ЦВ\n",
            "Ошибка: это не число\n",
            "Введите число: стоп\n",
            "[45, 10, 23, 45, 8]\n",
            "Количество успешно введённых чисел 5\n",
            "Количество ошибок 7\n"
          ]
        }
      ],
      "source": [
        "s = []\n",
        "errors = 0\n",
        "success = 0\n",
        "for i in range(1, 15):\n",
        "    k = input(\"Введите число: \")\n",
        "    if str(k) == \"стоп\":\n",
        "      break\n",
        "    else:\n",
        "      try:\n",
        "        s.append(int(k))\n",
        "      except ValueError:\n",
        "        print(\"Ошибка: это не число\")\n",
        "        errors += 1\n",
        "      else:\n",
        "        success += 1\n",
        "print(s)\n",
        "print(f'Количество успешно введённых чисел {success}')\n",
        "print(f'Количество ошибок {errors}')"
      ]
    },
    {
      "cell_type": "markdown",
      "metadata": {
        "id": "Yv-FNYTEp0vV"
      },
      "source": [
        "---"
      ],
      "id": "Yv-FNYTEp0vV"
    },
    {
      "cell_type": "markdown",
      "id": "5971f85d",
      "metadata": {
        "id": "5971f85d"
      },
      "source": [
        "### **Пункт №3**"
      ]
    },
    {
      "cell_type": "markdown",
      "id": "b1457074",
      "metadata": {
        "id": "b1457074"
      },
      "source": [
        "Создайте функцию `get_list_element(lst, index)`, которая безопасно извлекает элемент списка по индексу с использованием блоков `try`, `except`, `else` и `finally`.\n",
        "\n",
        "Функция должна:\n",
        "- Обрабатывать выход за пределы списка\n",
        "- Обрабатывать некорректный тип индекса\n",
        "- Выводить сообщение о попытке доступа в блоке `finally`\n",
        "\n",
        "**ОБЯЗАТЕЛЬНО:**\n",
        "- Выведите результаты для минимум 4 различных случаев (успешный доступ, выход за границы, отрицательный индекс, нечисловой индекс)\n",
        "- Покажите, что блок `finally` выполняется всегда\n",
        "\n",
        "```python\n",
        "# Пример использования:\n",
        "my_list = [1, 2, 3, 4, 5]\n",
        "get_list_element(my_list, 2)   # Вывод: \"Элемент: 3\", \"Попытка доступа завершена\"\n",
        "get_list_element(my_list, 10)  # Вывод: \"Индекс вне диапазона\", \"Попытка доступа завершена\"\n",
        "```"
      ]
    },
    {
      "cell_type": "code",
      "execution_count": 235,
      "id": "1c067cf3",
      "metadata": {
        "id": "1c067cf3"
      },
      "outputs": [],
      "source": [
        "my_list = [1, 2, 3, 4, 5]\n",
        "def get_list_element(lst, index):\n",
        "  try:\n",
        "    a = lst[index]\n",
        "  except TypeError:\n",
        "      print('Некорректный тип индекса!', end=', ')\n",
        "  except IndexError:\n",
        "      print('Индекс вне диапазона!', end=', ')\n",
        "  else:\n",
        "    return print(f'Элемент: {a}', end=', ')\n",
        "  finally:\n",
        "    print('Попытка доступа завершена')\n",
        "\n",
        "\n",
        "#Покажите, что блок finally выполняется всегда: return стоит перед finally, однако всёравно сначало выводится \"Попытка доступа завершена\"."
      ]
    },
    {
      "cell_type": "code",
      "source": [
        "get_list_element(my_list, 4)"
      ],
      "metadata": {
        "colab": {
          "base_uri": "https://localhost:8080/"
        },
        "id": "WvfsyYykqtJS",
        "outputId": "5b166d7b-c710-4637-e7cb-8ddea17a6692"
      },
      "id": "WvfsyYykqtJS",
      "execution_count": 236,
      "outputs": [
        {
          "output_type": "stream",
          "name": "stdout",
          "text": [
            "Элемент: 5, Попытка доступа завершена\n"
          ]
        }
      ]
    },
    {
      "cell_type": "code",
      "source": [
        "get_list_element(my_list, 6)"
      ],
      "metadata": {
        "colab": {
          "base_uri": "https://localhost:8080/"
        },
        "id": "mWWgD15Qq8Vm",
        "outputId": "93876051-f803-487f-bdf7-aed6e6156d40"
      },
      "id": "mWWgD15Qq8Vm",
      "execution_count": 237,
      "outputs": [
        {
          "output_type": "stream",
          "name": "stdout",
          "text": [
            "Индекс вне диапазона!, Попытка доступа завершена\n"
          ]
        }
      ]
    },
    {
      "cell_type": "code",
      "source": [
        "get_list_element(my_list, -1)"
      ],
      "metadata": {
        "colab": {
          "base_uri": "https://localhost:8080/"
        },
        "id": "yOlp-HnvrBCU",
        "outputId": "aa25fb0d-78b7-4088-bf82-270deca3da93"
      },
      "id": "yOlp-HnvrBCU",
      "execution_count": 238,
      "outputs": [
        {
          "output_type": "stream",
          "name": "stdout",
          "text": [
            "Элемент: 5, Попытка доступа завершена\n"
          ]
        }
      ]
    },
    {
      "cell_type": "code",
      "source": [
        "get_list_element(my_list, \"p\")"
      ],
      "metadata": {
        "colab": {
          "base_uri": "https://localhost:8080/"
        },
        "id": "tVn2nIWZrEtL",
        "outputId": "3f8c1800-1bc2-4768-cead-10b20142847a"
      },
      "id": "tVn2nIWZrEtL",
      "execution_count": 239,
      "outputs": [
        {
          "output_type": "stream",
          "name": "stdout",
          "text": [
            "Некорректный тип индекса!, Попытка доступа завершена\n"
          ]
        }
      ]
    },
    {
      "cell_type": "markdown",
      "id": "b5bb39c7",
      "metadata": {
        "id": "b5bb39c7"
      },
      "source": [
        "---"
      ]
    },
    {
      "cell_type": "markdown",
      "id": "b0972d59",
      "metadata": {
        "id": "b0972d59"
      },
      "source": [
        "## **II. Работа с текстовыми файлами**"
      ]
    },
    {
      "cell_type": "markdown",
      "id": "35729435",
      "metadata": {
        "id": "35729435"
      },
      "source": [
        "### **Пункт №1. Запись в файл**"
      ]
    },
    {
      "cell_type": "markdown",
      "id": "3121365f",
      "metadata": {
        "id": "3121365f"
      },
      "source": [
        "Напишите программу, которая запрашивает у пользователя строку и записывает её в файл output.txt в режиме дозаписи.\n",
        "\n",
        "**ОБЯЗАТЕЛЬНО:**\n",
        "- Запросите у пользователя минимум 3 строки\n",
        "- Покажите содержимое файла после записи"
      ]
    },
    {
      "cell_type": "code",
      "execution_count": 300,
      "id": "cbce6c5f",
      "metadata": {
        "id": "cbce6c5f",
        "colab": {
          "base_uri": "https://localhost:8080/"
        },
        "outputId": "efacb542-85e0-4924-8299-332178a75567"
      },
      "outputs": [
        {
          "name": "stdout",
          "output_type": "stream",
          "text": [
            "Hi sop\n",
            "we can\n",
            "seek\n"
          ]
        }
      ],
      "source": [
        "new_text = open(file=\"output.txt\", mode='a+', encoding='utf8')\n",
        "word_list = [f'{input()}\\n', f'{input()}\\n', f'{input()}\\n']\n",
        "new_text.writelines(word_list)\n",
        "new_text.close()"
      ]
    },
    {
      "cell_type": "code",
      "source": [
        "text = open(file='output.txt', mode='r', encoding=\"UTF-8\")\n",
        "content = text.read()\n",
        "print(content)"
      ],
      "metadata": {
        "colab": {
          "base_uri": "https://localhost:8080/"
        },
        "id": "84Q7lQ6c8RjE",
        "outputId": "56afefca-b09c-49b5-f02c-8ca768de79e2"
      },
      "id": "84Q7lQ6c8RjE",
      "execution_count": 354,
      "outputs": [
        {
          "output_type": "stream",
          "name": "stdout",
          "text": [
            "ryther\n",
            "ryther\n",
            "herthg\n",
            "rtyjwe\n",
            "74nfhg\n",
            "74nfhg\n",
            "fujkium\n",
            "ghdfh\n",
            "rtherh\n",
            "herthg\n",
            "\n"
          ]
        }
      ]
    },
    {
      "cell_type": "markdown",
      "id": "361b3d2b",
      "metadata": {
        "id": "361b3d2b"
      },
      "source": [
        "---"
      ]
    },
    {
      "cell_type": "markdown",
      "id": "cce864b4",
      "metadata": {
        "id": "cce864b4"
      },
      "source": [
        "### **Пункт №2. Чтение из файла**"
      ]
    },
    {
      "cell_type": "markdown",
      "id": "4fc83b82",
      "metadata": {
        "id": "4fc83b82"
      },
      "source": [
        "Напишите программу, которая открывает файл output.txt и выводит его содержимое на экран.\n",
        "\n",
        "**ОБЯЗАТЕЛЬНО:**\n",
        "- Создайте файл с минимум 5 строками текста\n",
        "- Покажите содержимое файла целиком\n",
        "- Обработайте случай отсутствующего файла"
      ]
    },
    {
      "cell_type": "code",
      "execution_count": 277,
      "id": "df27a986",
      "metadata": {
        "id": "df27a986",
        "colab": {
          "base_uri": "https://localhost:8080/"
        },
        "outputId": "7ea3ced8-6214-4d7d-96df-3a9646f99be4"
      },
      "outputs": [
        {
          "name": "stdout",
          "output_type": "stream",
          "text": [
            "Ban\n",
            "Gig\n",
            "Dodj\n",
            "Moda\n",
            "Since\n"
          ]
        }
      ],
      "source": [
        "try:\n",
        "  new_text = open(file=\"output.txt\", mode='r+', encoding='utf8')\n",
        "  word_list = [f'{input()}\\n', f'{input()}\\n', f'{input()}\\n', f'{input()}\\n', f'{input()}\\n']\n",
        "  new_text.writelines(word_list)\n",
        "  new_text.close()\n",
        "except FileNotFoundError:\n",
        "  print('Файл не найден')"
      ]
    },
    {
      "cell_type": "code",
      "source": [
        "try:\n",
        "  text = open(file='output.txt', mode='r', encoding=\"UTF-8\")\n",
        "  content = text.read()\n",
        "  print(content)\n",
        "except:\n",
        "  print('Файл не найден')"
      ],
      "metadata": {
        "colab": {
          "base_uri": "https://localhost:8080/"
        },
        "id": "TX70pTvcA4J0",
        "outputId": "36002e31-afbe-4147-d9e8-5afcc92afd94"
      },
      "id": "TX70pTvcA4J0",
      "execution_count": 278,
      "outputs": [
        {
          "output_type": "stream",
          "name": "stdout",
          "text": [
            "Ban\n",
            "Gig\n",
            "Dodj\n",
            "Moda\n",
            "Since\n",
            "ening Taz\n",
            "\n"
          ]
        }
      ]
    },
    {
      "cell_type": "markdown",
      "id": "045696ba",
      "metadata": {
        "id": "045696ba"
      },
      "source": [
        "### **Пункт №3. Подсчет строк в файле**"
      ]
    },
    {
      "cell_type": "markdown",
      "id": "570ac3e9",
      "metadata": {
        "id": "570ac3e9"
      },
      "source": [
        "Напишите программу, которая открывает файл output.txt и подсчитывает количество строк в нём.\n",
        "\n",
        "**ОБЯЗАТЕЛЬНО:**\n",
        "- Создайте тестовый файл с известным количеством строк (минимум 10)\n",
        "- Покажите первые 3 строки файла\n",
        "- Выведите общее количество строк\n",
        "- Выведите количество непустых строк"
      ]
    },
    {
      "cell_type": "code",
      "execution_count": 284,
      "id": "84aa205a",
      "metadata": {
        "id": "84aa205a",
        "colab": {
          "base_uri": "https://localhost:8080/"
        },
        "outputId": "56247779-79ff-4941-e8b9-e25bfa1f2d32"
      },
      "outputs": [
        {
          "name": "stdout",
          "output_type": "stream",
          "text": [
            "\n",
            "\n",
            "\n",
            "\n"
          ]
        }
      ],
      "source": [
        "new_text = open(file=\"output.txt\", mode='a+', encoding='utf8')\n",
        "word_list = [f'{input()}\\n', f'{input()}\\n', f'{input()}\\n', f'{input()}\\n']\n",
        "new_text.writelines(word_list)\n",
        "new_text.close()"
      ]
    },
    {
      "cell_type": "code",
      "source": [
        "text = open(file='output.txt', mode='r', encoding=\"UTF-8\")\n",
        "text.seek(0)\n",
        "word_list = text.read().splitlines()\n",
        "for i in range(3):\n",
        "  print(word_list[i])\n",
        "print(len(word_list))\n",
        "not_none = filter(lambda x: x != '', word_list)\n",
        "print(len(list(not_none)))\n",
        "#print(list(not_none))\n",
        "#print(word_list)"
      ],
      "metadata": {
        "colab": {
          "base_uri": "https://localhost:8080/"
        },
        "id": "e7vedgGLDWSO",
        "outputId": "a3c0b6d6-1a69-4248-9228-8ee052d98c70"
      },
      "id": "e7vedgGLDWSO",
      "execution_count": 294,
      "outputs": [
        {
          "output_type": "stream",
          "name": "stdout",
          "text": [
            "Ban\n",
            "Gig\n",
            "Dodj\n",
            "14\n",
            "10\n"
          ]
        }
      ]
    },
    {
      "cell_type": "markdown",
      "id": "94c6dcb0",
      "metadata": {
        "id": "94c6dcb0"
      },
      "source": [
        "---"
      ]
    },
    {
      "cell_type": "markdown",
      "id": "56f2a74e",
      "metadata": {
        "id": "56f2a74e"
      },
      "source": [
        "### **Пункт №4. Копирование содержимого файла**"
      ]
    },
    {
      "cell_type": "markdown",
      "id": "ed736046",
      "metadata": {
        "id": "ed736046"
      },
      "source": [
        "Напишите программу, которая копирует содержимое файла input.txt в файл output.txt.\n",
        "\n",
        "**ОБЯЗАТЕЛЬНО:**\n",
        "- Создайте исходный файл с тестовым содержимым (минимум 5 строк)\n",
        "- Покажите содержимое исходного файла\n",
        "- Выполните копирование\n",
        "- Покажите содержимое скопированного файла\n",
        "- Обработайте случай отсутствия исходного файла"
      ]
    },
    {
      "cell_type": "code",
      "execution_count": 310,
      "id": "31bd8a06",
      "metadata": {
        "id": "31bd8a06",
        "colab": {
          "base_uri": "https://localhost:8080/"
        },
        "outputId": "e7842412-bfdc-4e6b-c862-673cb6317bc8"
      },
      "outputs": [
        {
          "name": "stdout",
          "output_type": "stream",
          "text": [
            "htrhrh\n",
            "dfhgs\n",
            "mtjy\n",
            "wrtwsrt\n",
            "muyet\n"
          ]
        }
      ],
      "source": [
        "try:\n",
        "  new_text = open(file=\"input.txt\", mode='w', encoding='utf8')\n",
        "  word_list = [f'{input()}\\n', f'{input()}\\n', f'{input()}\\n', f'{input()}\\n', f'{input()}\\n']\n",
        "  new_text.writelines(word_list)\n",
        "  new_text.close()\n",
        "except:\n",
        "  print('Файл не найден')"
      ]
    },
    {
      "cell_type": "code",
      "source": [
        "try:\n",
        "  text = open(file='input.txt', mode='r', encoding=\"UTF-8\")\n",
        "  content = text.read()\n",
        "  print(content)\n",
        "except:\n",
        "  print('Файл не найден')"
      ],
      "metadata": {
        "colab": {
          "base_uri": "https://localhost:8080/"
        },
        "id": "pUCA2smkJBj3",
        "outputId": "83b9cef1-3218-4df8-f734-f5a90435f97f"
      },
      "id": "pUCA2smkJBj3",
      "execution_count": 311,
      "outputs": [
        {
          "output_type": "stream",
          "name": "stdout",
          "text": [
            "htrhrh\n",
            "dfhgs\n",
            "mtjy\n",
            "wrtwsrt\n",
            "muyet\n",
            "\n"
          ]
        }
      ]
    },
    {
      "cell_type": "code",
      "source": [
        "with open('input.txt', 'r') as input_file:\n",
        "    content = input_file.read()\n",
        "with open('output.txt', 'w') as output_file:\n",
        "    output_file.write(content)"
      ],
      "metadata": {
        "id": "w_dVTdt5Lky-"
      },
      "id": "w_dVTdt5Lky-",
      "execution_count": 312,
      "outputs": []
    },
    {
      "cell_type": "code",
      "source": [
        "text = open(file='output.txt', mode='r', encoding=\"UTF-8\")\n",
        "content = text.read()\n",
        "print(content)"
      ],
      "metadata": {
        "colab": {
          "base_uri": "https://localhost:8080/"
        },
        "id": "wXu7-iP-KUxh",
        "outputId": "ab5e30e4-e9d2-4df4-bcda-6c68b3c8767e"
      },
      "id": "wXu7-iP-KUxh",
      "execution_count": 340,
      "outputs": [
        {
          "output_type": "stream",
          "name": "stdout",
          "text": [
            "ryther\n",
            "ryther\n",
            "herthg\n",
            "rtyjwe\n",
            "74nfhg\n",
            "74nfhg\n",
            "fujkium\n",
            "ghdfh\n",
            "rtherh\n",
            "herthg\n",
            "\n"
          ]
        }
      ]
    },
    {
      "cell_type": "markdown",
      "id": "2f7c8ee5",
      "metadata": {
        "id": "2f7c8ee5"
      },
      "source": [
        "---"
      ]
    },
    {
      "cell_type": "markdown",
      "id": "70ee398b",
      "metadata": {
        "id": "70ee398b"
      },
      "source": [
        "### **Пункт №5. Поиск слова в файле**"
      ]
    },
    {
      "cell_type": "markdown",
      "id": "c67f8987",
      "metadata": {
        "id": "c67f8987"
      },
      "source": [
        "Напишите программу, которая открывает файл output.txt и проверяет, содержится ли в нём слово, введённое пользователем.\n",
        "\n",
        "**ОБЯЗАТЕЛЬНО:**\n",
        "- Создайте файл с минимум 10 строками текста\n",
        "- Покажите содержимое файла\n",
        "- Протестируйте поиск минимум 5 различных слов\n",
        "- Выведите номера строк, где найдено слово\n",
        "- Покажите количество вхождений слова"
      ]
    },
    {
      "cell_type": "code",
      "execution_count": 331,
      "id": "d961bbf3",
      "metadata": {
        "id": "d961bbf3",
        "colab": {
          "base_uri": "https://localhost:8080/"
        },
        "outputId": "2ef78b8e-5e77-4b36-d2bc-8b4aaebc75ea"
      },
      "outputs": [
        {
          "name": "stdout",
          "output_type": "stream",
          "text": [
            "ryther\n",
            "ryther\n",
            "herthg\n",
            "rtyjwe\n",
            "74nfhg\n",
            "74nfhg\n",
            "fujkium\n",
            "ghdfh\n",
            "rtherh\n",
            "herthg\n"
          ]
        }
      ],
      "source": [
        "new_text = open(file=\"output.txt\", mode='w', encoding='utf8')\n",
        "word_list = [f'{input()}\\n' for x in range(10)]\n",
        "new_text.writelines(word_list)\n",
        "new_text.close()"
      ]
    },
    {
      "cell_type": "code",
      "source": [
        "text = open(file='output.txt', mode='r', encoding=\"UTF-8\")\n",
        "word_list = text.read().splitlines()\n",
        "print(word_list)\n",
        "for _ in range(5):\n",
        "  a = input()\n",
        "  for i in range(len(word_list)):\n",
        "    if word_list[i] == a:\n",
        "      print(f'Номера строк, где найдено слово:{i}, количество вхождений слова: {word_list.count(a)}')\n",
        "    else:\n",
        "      if a not in word_list:\n",
        "        print('Слово не найдено')\n",
        "        break\n",
        ""
      ],
      "metadata": {
        "colab": {
          "base_uri": "https://localhost:8080/"
        },
        "id": "fNf8KmzKNhWM",
        "outputId": "b47436d4-6d4c-499c-bb1a-db8cec3a231f"
      },
      "id": "fNf8KmzKNhWM",
      "execution_count": 339,
      "outputs": [
        {
          "output_type": "stream",
          "name": "stdout",
          "text": [
            "['ryther', 'ryther', 'herthg', 'rtyjwe', '74nfhg', '74nfhg', 'fujkium', 'ghdfh', 'rtherh', 'herthg']\n",
            "er\n",
            "Слово не найдено\n",
            "ryther\n",
            "Номера строк, где найдено слово:0, количество вхождений слова: 2\n",
            "Номера строк, где найдено слово:1, количество вхождений слова: 2\n",
            "74nfhg\n",
            "Номера строк, где найдено слово:4, количество вхождений слова: 2\n",
            "Номера строк, где найдено слово:5, количество вхождений слова: 2\n",
            "th\n",
            "Слово не найдено\n",
            "rtyjwe\n",
            "Номера строк, где найдено слово:3, количество вхождений слова: 1\n"
          ]
        }
      ]
    },
    {
      "cell_type": "markdown",
      "id": "8d69c77a",
      "metadata": {
        "id": "8d69c77a"
      },
      "source": [
        "---"
      ]
    },
    {
      "cell_type": "markdown",
      "id": "0079e067",
      "metadata": {
        "id": "0079e067"
      },
      "source": [
        "### **Пункт №6. Чтение файла с обработкой FileNotFoundError**"
      ]
    },
    {
      "cell_type": "markdown",
      "id": "c3d27312",
      "metadata": {
        "id": "c3d27312"
      },
      "source": [
        "Напишите программу, которая запрашивает у пользователя имя файла и пытается открыть его. Если файла не существует, перехватите FileNotFoundError и выведите сообщение «Файл не найден!».\n",
        "\n",
        "**ОБЯЗАТЕЛЬНО:**\n",
        "- Протестируйте с существующим файлом\n",
        "- Протестируйте с несуществующим файлом\n",
        "- Покажите содержимое существующего файла"
      ]
    },
    {
      "cell_type": "code",
      "execution_count": 348,
      "id": "0c262bd2",
      "metadata": {
        "id": "0c262bd2",
        "colab": {
          "base_uri": "https://localhost:8080/"
        },
        "outputId": "7b63a6c3-442f-4fd6-89bb-6436355b61ae"
      },
      "outputs": [
        {
          "output_type": "stream",
          "name": "stdout",
          "text": [
            "Введите имя файла: output.txt\n",
            "ryther\n",
            "ryther\n",
            "herthg\n",
            "rtyjwe\n",
            "74nfhg\n",
            "74nfhg\n",
            "fujkium\n",
            "ghdfh\n",
            "rtherh\n",
            "herthg\n",
            "\n"
          ]
        }
      ],
      "source": [
        "file = input(\"Введите имя файла: \")\n",
        "try:\n",
        "  text = open(file, mode='r', encoding=\"UTF-8\")\n",
        "  content = text.read()\n",
        "  print(content)\n",
        "except FileNotFoundError:\n",
        "  print(\"Файл не найден!\")"
      ]
    },
    {
      "cell_type": "markdown",
      "id": "c3258b46",
      "metadata": {
        "id": "c3258b46"
      },
      "source": [
        "---"
      ]
    },
    {
      "cell_type": "markdown",
      "id": "02e0767b",
      "metadata": {
        "id": "02e0767b"
      },
      "source": [
        "### **Пункт №7. Подсчет статистики файла**"
      ]
    },
    {
      "cell_type": "markdown",
      "id": "1c33b711",
      "metadata": {
        "id": "1c33b711"
      },
      "source": [
        "Напишите функцию `file_statistics(filename)`, которая читает текстовый файл и возвращает словарь со статистикой:\n",
        "- Количество строк\n",
        "- Количество слов\n",
        "- Количество символов (с пробелами и без)\n",
        "\n",
        "**ОБЯЗАТЕЛЬНО:**\n",
        "- Создайте тестовый файл с минимум 5 строками текста\n",
        "- Выведите содержимое файла ДО обработки\n",
        "- Выведите полученную статистику\n",
        "- Обработайте случай несуществующего файла\n",
        "\n",
        "```python\n",
        "# Создание тестового файла\n",
        "test_content = \"\"\"Первая строка текста\n",
        "Вторая строка с большим количеством слов\n",
        "Третья строка\n",
        "Четвертая строка для теста\n",
        "Пятая и последняя строка\"\"\"\n",
        "\n",
        "# Сохраните в файл и продемонстрируйте работу\n",
        "```"
      ]
    },
    {
      "cell_type": "code",
      "execution_count": 371,
      "id": "43bfd6b8",
      "metadata": {
        "id": "43bfd6b8"
      },
      "outputs": [],
      "source": [
        "new_text = open(file=\"stat.txt\", mode='w', encoding='utf8')\n",
        "word_list = ['Первая строка текста\\n', 'Вторая строка с большим количеством слов\\n', 'Третья строка\\n', 'Четвертая строка для теста\\n', 'Пятая и последняя строка\\n']\n",
        "new_text.writelines(word_list)\n",
        "new_text.close()"
      ]
    },
    {
      "cell_type": "code",
      "source": [
        "new_text = open(file=\"stat.txt\", mode='r', encoding='utf8')\n",
        "content = text.read()\n",
        "print(content)"
      ],
      "metadata": {
        "id": "HtjU7vQRZkiU",
        "outputId": "f1638899-1825-4312-83f0-c1ebb2aaaae4",
        "colab": {
          "base_uri": "https://localhost:8080/"
        }
      },
      "id": "HtjU7vQRZkiU",
      "execution_count": 375,
      "outputs": [
        {
          "output_type": "stream",
          "name": "stdout",
          "text": [
            "\n"
          ]
        }
      ]
    },
    {
      "cell_type": "markdown",
      "id": "903281dd",
      "metadata": {
        "id": "903281dd"
      },
      "source": [
        "---"
      ]
    },
    {
      "cell_type": "markdown",
      "id": "ad8b4ae4",
      "metadata": {
        "id": "ad8b4ae4"
      },
      "source": [
        "### **Пункт №8. Поиск и замена в файле**"
      ]
    },
    {
      "cell_type": "markdown",
      "id": "e5230d0a",
      "metadata": {
        "id": "e5230d0a"
      },
      "source": [
        "Напишите функцию `replace_in_file(filename, old_text, new_text)`, которая заменяет все вхождения `old_text` на `new_text` в файле и сохраняет результат в новый файл с префиксом \"modified_\".\n",
        "\n",
        "**ОБЯЗАТЕЛЬНО:**\n",
        "- Создайте файл с текстом, содержащим минимум 3 вхождения заменяемого слова\n",
        "- Выведите содержимое файла ДО замены\n",
        "- Выполните замену\n",
        "- Выведите содержимое файла ПОСЛЕ замены\n",
        "- Покажите количество произведенных замен"
      ]
    },
    {
      "cell_type": "code",
      "execution_count": null,
      "id": "64a05e35",
      "metadata": {
        "id": "64a05e35"
      },
      "outputs": [],
      "source": [
        "# Ваш код и демонстрация работы"
      ]
    },
    {
      "cell_type": "markdown",
      "id": "f77b0568",
      "metadata": {
        "id": "f77b0568"
      },
      "source": [
        "---"
      ]
    },
    {
      "cell_type": "markdown",
      "id": "79a081b1",
      "metadata": {
        "id": "79a081b1"
      },
      "source": [
        "### **Пункт №9. Объединение файлов**"
      ]
    },
    {
      "cell_type": "markdown",
      "id": "599cee3c",
      "metadata": {
        "id": "599cee3c"
      },
      "source": [
        "Создайте функцию `merge_files(file_list, output_file)`, которая объединяет содержимое нескольких текстовых файлов в один, добавляя после каждого разделитель.\n",
        "\n",
        "**ОБЯЗАТЕЛЬНО:**\n",
        "- Создайте минимум 3 файла с разным содержимым\n",
        "- Выведите содержимое КАЖДОГО исходного файла\n",
        "- Выполните объединение\n",
        "- Выведите содержимое результирующего файла"
      ]
    },
    {
      "cell_type": "code",
      "execution_count": null,
      "id": "581b5868",
      "metadata": {
        "id": "581b5868"
      },
      "outputs": [],
      "source": [
        "# Ваш код и демонстрация работы"
      ]
    },
    {
      "cell_type": "markdown",
      "id": "eb866091",
      "metadata": {
        "id": "eb866091"
      },
      "source": [
        "---"
      ]
    }
  ],
  "metadata": {
    "colab": {
      "provenance": [],
      "name": "Дополнительное задание №3. Обработка исключений и работа с текстовыми файлами.ipynb",
      "include_colab_link": true
    },
    "language_info": {
      "name": "python"
    },
    "kernelspec": {
      "name": "python3",
      "display_name": "Python 3"
    }
  },
  "nbformat": 4,
  "nbformat_minor": 5
}